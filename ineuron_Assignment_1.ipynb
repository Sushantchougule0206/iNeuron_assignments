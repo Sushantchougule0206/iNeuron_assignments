{
 "cells": [
  {
   "cell_type": "code",
   "execution_count": 1,
   "id": "21943fb0",
   "metadata": {},
   "outputs": [
    {
     "data": {
      "text/plain": [
       "'1. In the below elements which of them are values or an expression? eg:- values can be\\ninteger or string and expressions will be mathematical operators.\\n*\\n&#39;hello&#39;\\n-87.8\\n-\\n/\\n+\\n6'"
      ]
     },
     "execution_count": 1,
     "metadata": {},
     "output_type": "execute_result"
    }
   ],
   "source": [
    "'''1. In the below elements which of them are values or an expression? eg:- values can be\n",
    "integer or string and expressions will be mathematical operators.\n",
    "*\n",
    "&#39;hello&#39;\n",
    "-87.8\n",
    "-\n",
    "/\n",
    "+\n",
    "6'''\n",
    "\n",
    "# Ans:-\n",
    "       # -87.8 and 6 are Values.\n",
    "    \n",
    "       # *,'hello',-,/,+ are Expressions.\n"
   ]
  },
  {
   "cell_type": "code",
   "execution_count": null,
   "id": "6fda1e81",
   "metadata": {},
   "outputs": [],
   "source": [
    "# 2.What is the difference between string and variable.\n",
    "\n",
    " # String:\n",
    "    ''' A string is a data type used to represent a sequence of characters. Characters can include letters, numbers, symbols,\n",
    "       and whitespace.Strings are used to store textual information, such as names, sentences, or any kind of textual data.'''\n",
    "\n",
    " # Variable:\n",
    "    ''' A variable is a name that represents a memory location where data can be stored and manipulated. It acts as a placeholder\n",
    "       for values of various data types, including strings, numbers, and more complex data structures.'''"
   ]
  },
  {
   "cell_type": "code",
   "execution_count": null,
   "id": "be98b3c4",
   "metadata": {},
   "outputs": [],
   "source": [
    "# 3.Describe three different data types.\n",
    "'''   \n",
    "      i) Integer(int): An integer is a data type used to represent whole numbers without any fractional or decimal component.\n",
    "                      Integers can be positive, negative, or zero.\n",
    "                      \n",
    "                      eg. name=\"Sushant\"  \n",
    "                          age=22\n",
    "      \n",
    "      ii) Floating-Point(float): Floating-point numbers, often referred to as \"floats\" are used to represent numbers with \n",
    "                                  a fractional or decimal component.\n",
    "       \n",
    "                                  eg. 10th_marks=90.40\n",
    "                                      pi=3.14\n",
    "      \n",
    "      iii) List: List represents an ordered collection of items. Items can be of any data type, including other lists.\n",
    "                                \n",
    "                 eg. [1, 2, 3], ['apple', 'banana', 'cherry']\n",
    "'''"
   ]
  },
  {
   "cell_type": "code",
   "execution_count": null,
   "id": "e1be2575",
   "metadata": {},
   "outputs": [],
   "source": [
    "# 4.What is an expression made up of? What do all expressions do?\n",
    "'''\n",
    "     An expression is made up of components that combine to produce a value.\n",
    "     Expressions can be single literal value or a complex combination of operators,variables and function calls.\n",
    "     \n",
    "     i)Operators: Operators are Symbols that perform operations on operands. \n",
    "              \n",
    "               Eg. arithmetic operators (+, -, *, /)\n",
    "                   comparison operators (>, <, ==)\n",
    "                   logical operators (and, or)\n",
    "    \n",
    "    ii)Variables: Variables are Named placeholders that store values. They can be used in expressions to represent data. \n",
    "               Eg. name=\"Sushant\"\n",
    "                   age=22\n",
    "    \n",
    "    iii)Function Calls: Invoking functions or methods to perform actions or calculations.               \n",
    "'''"
   ]
  },
  {
   "cell_type": "code",
   "execution_count": null,
   "id": "82bb1f4e",
   "metadata": {},
   "outputs": [],
   "source": [
    "#5.This assignment statements, like spam = 10. What is the difference between an expression and a statement? \n",
    "'''\n",
    "    Expression:\n",
    "               A grouping of values, variables, operators, and function calls that can be evaluated to produce a single value.\n",
    "               Mathematical calculations, function calls that return a value, and comparisons are the examples of Experssion.\n",
    "               \n",
    "               Eg. spam = x + 10\n",
    "               \n",
    "    Statement:\n",
    "              A statement is a complete line of code that performs an action. Statements are instructions that the programming\n",
    "              language follows to execute a specific task. They don't necessarily produce a value like expressions do.\n",
    "              \n",
    "              Eg. spam = 10\n",
    "\n",
    "'''"
   ]
  },
  {
   "cell_type": "code",
   "execution_count": null,
   "id": "52a1e50c",
   "metadata": {},
   "outputs": [],
   "source": [
    "#6. After running the following code, what does the variable bacon contain?\n",
    "      bacon = 22\n",
    "      bacon + 1\n",
    "        \n",
    "    '''bacon is variable which store value 22, when we execute bacon + 1 it will give output 23, because bacon stores value 22 \n",
    "    therefore bacon + 1 is like 22 + 1.\n",
    "    '''"
   ]
  },
  {
   "cell_type": "code",
   "execution_count": 13,
   "id": "68b30007",
   "metadata": {},
   "outputs": [
    {
     "data": {
      "text/plain": [
       "'spamspamspam'"
      ]
     },
     "execution_count": 13,
     "metadata": {},
     "output_type": "execute_result"
    }
   ],
   "source": [
    "#7.What should the values of the following two terms be?\n",
    "'spam' + 'spamspam' # line 1\n",
    "'spam' * 3 # line 2\n",
    "\n",
    "'''  line 1 will not effects on line 2 expression so output of \"spam\" * 3 will be final output. \n",
    "'''\n"
   ]
  },
  {
   "cell_type": "code",
   "execution_count": null,
   "id": "73378c18",
   "metadata": {},
   "outputs": [],
   "source": [
    "#8. Why is eggs a valid variable name while 100 is invalid?\n",
    "'''   \n",
    "    Variable names must start with a letter (a-z, A-Z) or an underscore (_).\n",
    "    That's why eggs is a valid variable and 100 is invalid variable\n",
    "    \n",
    "'''"
   ]
  },
  {
   "cell_type": "code",
   "execution_count": null,
   "id": "01110785",
   "metadata": {},
   "outputs": [],
   "source": [
    "#9.What three functions can be used to get the integer, floating-point number, or string version of a value?\n",
    "''' \n",
    "   i) int():This function is used to convert a value to an integer.\n",
    "         Eg.\n",
    "               int(\"42\") would convert the string \"42\" to the integer 42.\n",
    "               \n",
    "   ii) float():This function is used to convert a value to a floating-point number (decimal number).\n",
    "          Eg.\n",
    "               float(\"3.14\") would convert the string \"3.14\" to the floating-point number 3.14.\n",
    "               \n",
    "  iii) str(): This function is used to convert a value to its string representation.\n",
    "         Eg.\n",
    "               str(123) would convert the integer 123 to the string \"123\".    \n",
    "               \n",
    "      These are the functions can be used to get the integer, floating-point number or string         \n",
    "     \n",
    "'''\n"
   ]
  },
  {
   "cell_type": "code",
   "execution_count": 4,
   "id": "c5335315",
   "metadata": {},
   "outputs": [
    {
     "data": {
      "text/plain": [
       "'  \\n     This expression will show TyperError because string can only concatenate to string not integer.\\n\\n'"
      ]
     },
     "execution_count": 4,
     "metadata": {},
     "output_type": "execute_result"
    }
   ],
   "source": [
    "#10. Why does this expression cause an error? How can you fix it?\n",
    "            'I have eaten' + 99 + 'burritos.'\n",
    "'''  \n",
    "     This expression will show TyperError because string can only concatenate to string not integer.\n",
    "\n",
    "'''"
   ]
  },
  {
   "cell_type": "code",
   "execution_count": null,
   "id": "4217ca94",
   "metadata": {},
   "outputs": [],
   "source": []
  }
 ],
 "metadata": {
  "kernelspec": {
   "display_name": "Python 3",
   "language": "python",
   "name": "python3"
  },
  "language_info": {
   "codemirror_mode": {
    "name": "ipython",
    "version": 3
   },
   "file_extension": ".py",
   "mimetype": "text/x-python",
   "name": "python",
   "nbconvert_exporter": "python",
   "pygments_lexer": "ipython3",
   "version": "3.8.8"
  }
 },
 "nbformat": 4,
 "nbformat_minor": 5
}
