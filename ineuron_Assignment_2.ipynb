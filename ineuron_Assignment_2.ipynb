{
 "cells": [
  {
   "cell_type": "code",
   "execution_count": null,
   "id": "e6277d2b",
   "metadata": {},
   "outputs": [],
   "source": [
    "# 1.What are the two values of the Boolean data type? How do you write them?\n",
    "'''\n",
    "    > The Boolean data type has two possible values: \"true\" and \"false\". \n",
    "    > These values are fundamental for logical operations and conditional statements in programming.\n",
    "    >\"true\" for representing true or affirmative.\n",
    "    >\"false\" for representing false or negative.\n",
    "'''"
   ]
  },
  {
   "cell_type": "code",
   "execution_count": null,
   "id": "11948e22",
   "metadata": {},
   "outputs": [],
   "source": [
    "# 2.What are the three different types of Boolean operators?\n",
    "'''\n",
    "    i)AND Operator (&& or AND):This operator returns true if both operands are true, otherwise it returns false. \n",
    "       It is used to combine multiple conditions where all conditions must be satisfied for the overall expression to be true.\n",
    "\n",
    "    ii)OR Operator (|| or OR):This operator returns true if at least one of the operands is true.It returns false \n",
    "        if both operands are false. It is used to create expressions where any of the conditions being checked can be true \n",
    "        for the overall expression to be true.\n",
    "\n",
    "    iii)NOT Operator (! or NOT):This operator is used to reverse the logical value of its operand. If the operand is true,\n",
    "       the NOT operator returns false, and if the operand is false, the NOT operator returns true. \n",
    "       It's used to negate a condition or expression.\n",
    "'''"
   ]
  },
  {
   "cell_type": "code",
   "execution_count": null,
   "id": "b5170bad",
   "metadata": {},
   "outputs": [],
   "source": [
    "# 3.Make a list of each Boolean operator's truth tables \n",
    "# (i.e. every possible combination of Booleanvalues for the operator and what it evaluate ).\n",
    "'''\n",
    "    i)AND Operator (&& or AND):\n",
    "                                 Operand1    Operand2    Result\n",
    "                                  \n",
    "                                  false       false       false\n",
    "                                  \n",
    "                                  false       true        false\n",
    "                                  \n",
    "                                  true        false       false\n",
    "                                 \n",
    "                                  true        true        true\n",
    "                                  \n",
    "    ii)OR Operator (|| or OR):\n",
    "                                  Operand1    Operand2    Result\n",
    "                                  \n",
    "                                  false       false       false\n",
    "                                  \n",
    "                                  false       true        true\n",
    "                                  \n",
    "                                  true        false       true\n",
    "                                 \n",
    "                                  true        true        true\n",
    "                                  \n",
    "    iii)NOT Operator (! or NOT):  \n",
    "                                   Operand2    Result\n",
    "                                  \n",
    "                                    false       true       \n",
    "                                  \n",
    "                                    true        false\n",
    "'''"
   ]
  },
  {
   "cell_type": "code",
   "execution_count": null,
   "id": "a0aae8c3",
   "metadata": {},
   "outputs": [],
   "source": [
    "# 4.What are the values of the following expressions?\n",
    "'''\n",
    "      (5 > 4) and (3 == 5): false                                          not (5 > 4): false\n",
    "      \n",
    "      (5 > 4) or (3 == 5): true                                            not ((5 > 4) or (3 == 5)): false\n",
    "\n",
    "      (True and True) and (True == False): false                           (not False) or (not True): true\n",
    "\n",
    "'''"
   ]
  },
  {
   "cell_type": "code",
   "execution_count": null,
   "id": "c8e10655",
   "metadata": {},
   "outputs": [],
   "source": [
    "# 5.What are the six comparison operators? \n",
    "'''\n",
    " i) equal to (==): Checks if two values are equal. Returns true if the values are equal, and false otherwise.\n",
    "\n",
    " ii) not equal to (!=): Checks if two values are not equal. Returns true if the values are not equal, and false if they are equal.\n",
    "\n",
    " iii) greater than (>): Checks if the left value is greater than the right value. Returns true if the left value is greater, \n",
    "                      and false otherwise.\n",
    "\n",
    " iv) less than (<): Checks if the left value is less than the right value. Returns true if the left value is less, \n",
    "                    and false otherwise.\n",
    "\n",
    " v) greater than or equal to (>=): Checks if the left value is greater than or equal to the right value. \n",
    "                                    Returns true if the left value is greater than or equal, and false otherwise.\n",
    "\n",
    " vi) less than or equal to (<=): Checks if the left value is less than or equal to the right value. \n",
    "                                 Returns true if the left value is less than or equal, and false otherwise.\n",
    "'''"
   ]
  },
  {
   "cell_type": "code",
   "execution_count": null,
   "id": "3333ed52",
   "metadata": {},
   "outputs": [],
   "source": [
    "# 6.How do you tell the difference between the equal to and assignment operators?Describe a condition and when you would use one.\n",
    "'''\n",
    "  i) Equal To Operator(==): This operator is used to compare whether two values are equal or not. \n",
    "                            It returns true if the values on both sides of the operator are equal, \n",
    "                            and false if they are not equal. It is primarily used in conditional statements \n",
    "                            and expressions to check for equality between values.\n",
    "                             \n",
    "  ii) Assignment Operator(=): This operator is used to assign a value to a variable. \n",
    "                              It does not check for equality;instead,\n",
    "                              it assigns the value on the right-hand side of the operator to the variable on the left-hand side.\n",
    "                              \n",
    "                              \n",
    "  Example 1.\n",
    "                       password = \"secret\"\n",
    "                       user_input = input(\"Enter the password: \")\n",
    "\n",
    "                          if user_input == password:\n",
    "                             print(\"Access granted!\")\n",
    "                          else:\n",
    "                             print(\"Access denied!\")       \n",
    "                              \n",
    "'''"
   ]
  },
  {
   "cell_type": "code",
   "execution_count": null,
   "id": "8c4ad529",
   "metadata": {},
   "outputs": [],
   "source": [
    "# 7.Identify the three blocks in this code:\n",
    "'''\n",
    "    Block 1:\n",
    "            spam = 0\n",
    "    \n",
    "    Block 2:\n",
    "    \n",
    "            if spam == 10:\n",
    "            print('eggs')\n",
    "            elif spam > 5:\n",
    "            print('bacon')\n",
    "            else:\n",
    "        \n",
    "    Block 3:\n",
    "            print('ham')\n",
    "            print('spam')\n",
    "            print('spam')\n",
    "\n",
    "'''"
   ]
  },
  {
   "cell_type": "code",
   "execution_count": null,
   "id": "e0709b81",
   "metadata": {},
   "outputs": [],
   "source": [
    "# 8. Write code that prints Hello if 1 is stored in spam, prints Howdy if 2 is stored in spam, and prints\n",
    "#    Greetings! if anything else is stored in spam.\n"
   ]
  },
  {
   "cell_type": "code",
   "execution_count": null,
   "id": "74ca807d",
   "metadata": {},
   "outputs": [],
   "source": [
    "spam = input(float( ))\n",
    "\n",
    "if spam == 1:\n",
    "    print(\"Hello\")\n",
    "elif spam == 2:\n",
    "    print(\"Howdy\")\n",
    "else:\n",
    "    print(\"Greetings\")"
   ]
  },
  {
   "cell_type": "code",
   "execution_count": null,
   "id": "98eb513f",
   "metadata": {},
   "outputs": [],
   "source": [
    "# 9.If your programme is stuck in an endless loop, what keys you’ll press?\n",
    "'''\n",
    "    If your program is stuck in an endless loop and you need to forcefully terminate it, you can typically use the following key:\n",
    "   \n",
    "    Windows/Linux: You can usually press Ctrl + C in the terminal where the program is running. \n",
    "                   This key combination sends an interrupt signal to the running program.\n",
    "'''"
   ]
  },
  {
   "cell_type": "code",
   "execution_count": null,
   "id": "6ccb75dc",
   "metadata": {},
   "outputs": [],
   "source": [
    "# 10.How can you tell the difference between break and continue?\n",
    "'''\n",
    "    i) break: The break statement is used to immediately exit the loop, \n",
    "              regardless of whether the loop's condition is still satisfied.\n",
    "              \n",
    "    ii) continue: The continue statement is used to skip the rest of the current iteration of the loop and move on to the next iteration. \n",
    "                  It does not terminate the loop entirely.\n",
    "                  \n",
    "                  \n",
    "'''"
   ]
  },
  {
   "cell_type": "code",
   "execution_count": null,
   "id": "0ac2f181",
   "metadata": {},
   "outputs": [],
   "source": [
    "# 11.In a for loop, what is the difference between range(10), range(0, 10), and range(0, 10, 1)?\n",
    "'''\n",
    "     i)range(10): >In this form of the range() function specifies the end value of the sequence.\n",
    "                  >It generates a sequence of numbers starting from 0 up to the given end value. \n",
    "                  >In this case, the end value is 10.\n",
    "                  \n",
    "     ii)range(0,10): >In this form of the range() function specifies the start and end values of the sequence.\n",
    "                     >It generates a sequence of numbers starting from start value up to the given end value.\n",
    "                     >In this case, the start value is 0 and end value is 10.\n",
    "     \n",
    "     iii)range(0,10,1): >In this form of the range() function specifies the start,end and step values of the sequence.\n",
    "                        >It generates a sequence of numbers starting from start value up to the given end value and increment \n",
    "                         the values according to the step values.\n",
    "                        >In this case, the start value is 0,end value is 10 and step value is 1.\n",
    "                         \n",
    "     \n",
    "'''"
   ]
  },
  {
   "cell_type": "code",
   "execution_count": null,
   "id": "6f4ccae9",
   "metadata": {},
   "outputs": [],
   "source": [
    "# 12.Write a short program that prints the numbers 1 to 10 using a for loop. Then write an equivalent \n",
    "#    program that prints the numbers 1 to 10 using a while loop."
   ]
  },
  {
   "cell_type": "code",
   "execution_count": null,
   "id": "994d6e78",
   "metadata": {},
   "outputs": [],
   "source": [
    "for i in range(1,11):\n",
    "    print(i)"
   ]
  },
  {
   "cell_type": "code",
   "execution_count": null,
   "id": "283622e4",
   "metadata": {},
   "outputs": [],
   "source": [
    "i=1\n",
    "while i<11:\n",
    "    print(i)\n",
    "    i+=1"
   ]
  },
  {
   "cell_type": "code",
   "execution_count": null,
   "id": "1b2a4ab7",
   "metadata": {},
   "outputs": [],
   "source": [
    "# 13.If you had a function named bacon() inside a module named spam, how would you call it after importing spam?\n",
    "import spam\n",
    " \n",
    "spam.bacon()"
   ]
  }
 ],
 "metadata": {
  "kernelspec": {
   "display_name": "Python 3",
   "language": "python",
   "name": "python3"
  },
  "language_info": {
   "codemirror_mode": {
    "name": "ipython",
    "version": 3
   },
   "file_extension": ".py",
   "mimetype": "text/x-python",
   "name": "python",
   "nbconvert_exporter": "python",
   "pygments_lexer": "ipython3",
   "version": "3.8.8"
  }
 },
 "nbformat": 4,
 "nbformat_minor": 5
}
