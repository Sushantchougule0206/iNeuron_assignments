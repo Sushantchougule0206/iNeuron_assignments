{
 "cells": [
  {
   "cell_type": "code",
   "execution_count": null,
   "id": "54551b73",
   "metadata": {},
   "outputs": [],
   "source": [
    "## 1.What exactly is []?\n",
    "'''\n",
    "    >'[]' is an empty list in many programming languages.\n",
    "    >List is a data structure that can hold a collection of elements.\n",
    "    >An empty list, denoted by '[]'.\n",
    "    \n",
    "    Example:\n",
    "             empty_list = []\n",
    "             length = len(empty_list)\n",
    "             print(length) ## output:0\n",
    "'''"
   ]
  },
  {
   "cell_type": "code",
   "execution_count": 1,
   "id": "d01c2150",
   "metadata": {},
   "outputs": [
    {
     "name": "stdout",
     "output_type": "stream",
     "text": [
      "hello\n"
     ]
    }
   ],
   "source": [
    "## 2.In a list of values stored in a variable called spam, how would you assign the value 'hello' as the third value? \n",
    "## (Assume [2, 4, 6, 8, 10] are in spam.)\n",
    "spam = [2,4,6,8,10]\n",
    "spam[2]= 'hello'\n",
    "\n",
    "print(spam[2])\n"
   ]
  },
  {
   "cell_type": "code",
   "execution_count": 3,
   "id": "2908471f",
   "metadata": {},
   "outputs": [
    {
     "name": "stdout",
     "output_type": "stream",
     "text": [
      "d\n"
     ]
    }
   ],
   "source": [
    "## 3.What is the value of spam[int(int('3'* 2)/11)]?\n",
    "'''\n",
    "   > int('3' * 2) evaluates to int('33')\n",
    "   > int('33') / 11 evaluates to 3.0 because dividing 33 by 11 results in 3.0, because of 'int'.\n",
    "   > spam[3.0] attempts to access the element at index 3.0 in the list spam.\n",
    "'''\n",
    "spam = ['a','b','c','d']\n",
    "print(spam[int(int('3'*2)/11)])"
   ]
  },
  {
   "cell_type": "code",
   "execution_count": 4,
   "id": "e6c125a2",
   "metadata": {},
   "outputs": [
    {
     "name": "stdout",
     "output_type": "stream",
     "text": [
      "d\n"
     ]
    }
   ],
   "source": [
    "## 4.What is the value of spam[-1]?\n",
    "'''> In list revese indexing start with -1,-2,...and so on.\n",
    "   > therefore spam[-1] = d\n",
    "'''\n",
    "spam = ['a','b','c','d']\n",
    "print(spam[-1])"
   ]
  },
  {
   "cell_type": "code",
   "execution_count": 1,
   "id": "1c8130b0",
   "metadata": {},
   "outputs": [
    {
     "name": "stdout",
     "output_type": "stream",
     "text": [
      "['a', 'b']\n"
     ]
    }
   ],
   "source": [
    "## 5.What is the value of spam[:2]?\n",
    "'''> spam[a:b] \n",
    "   > In list 'a' represent position of element which is stored at ath index.\n",
    "   > In list 'b' represent position of element which is stored at bth index.\n",
    "'''\n",
    "spam = ['a','b','c','d']\n",
    "print(spam[:2])"
   ]
  },
  {
   "cell_type": "code",
   "execution_count": 8,
   "id": "cc65ee51",
   "metadata": {},
   "outputs": [
    {
     "name": "stdout",
     "output_type": "stream",
     "text": [
      "1\n"
     ]
    }
   ],
   "source": [
    "## 6.What is the value of bacon.index('cat')?\n",
    "'''>The 'index()' method in Python returns the index of the first occurrence of the specified element in a list.'''\n",
    "bacon =[3.14,'cat',11,'cat',True]\n",
    "print(bacon.index('cat'))"
   ]
  },
  {
   "cell_type": "code",
   "execution_count": null,
   "id": "e17a611d",
   "metadata": {},
   "outputs": [],
   "source": []
  },
  {
   "cell_type": "code",
   "execution_count": 10,
   "id": "6d637c61",
   "metadata": {},
   "outputs": [
    {
     "data": {
      "text/plain": [
       "[3.14, 'cat', 11, 'cat', True, 99]"
      ]
     },
     "execution_count": 10,
     "metadata": {},
     "output_type": "execute_result"
    }
   ],
   "source": [
    "## 7.How does bacon.append(99) change the look of the list value in bacon?\n",
    "'''> List is a mutable data type of python '''\n",
    "bacon =[3.14,'cat',11,'cat',True]\n",
    "bacon.append(99)\n",
    "bacon"
   ]
  },
  {
   "cell_type": "code",
   "execution_count": 11,
   "id": "82b8fdd9",
   "metadata": {},
   "outputs": [
    {
     "data": {
      "text/plain": [
       "[3.14, 11, 'cat', True]"
      ]
     },
     "execution_count": 11,
     "metadata": {},
     "output_type": "execute_result"
    }
   ],
   "source": [
    "## 8.How does bacon.remove('cat') change the look of the list in bacon?\n",
    "bacon =[3.14,'cat',11,'cat',True]\n",
    "bacon.remove('cat')\n",
    "bacon"
   ]
  },
  {
   "cell_type": "code",
   "execution_count": null,
   "id": "a6a0d567",
   "metadata": {},
   "outputs": [],
   "source": [
    "## 9.What are the list concatenation and list replication operators?\n",
    "'''1.List Concatenation Operator (+):\n",
    "      The + operator allows you to concatenate (combine) two or more lists into a single list.\n",
    "      \n",
    "   2.List Replication Operator (*):\n",
    "      The * operator allows you to replicate (repeat) a list a specified number of times.\n",
    "'''"
   ]
  },
  {
   "cell_type": "code",
   "execution_count": 12,
   "id": "7e1916eb",
   "metadata": {},
   "outputs": [
    {
     "name": "stdout",
     "output_type": "stream",
     "text": [
      "['a', 'b', 'c', 'd', 3.14, 'cat', 11, 'cat', True]\n"
     ]
    }
   ],
   "source": [
    "## List Concatenation Operator (+)\n",
    "spam = ['a','b','c','d']\n",
    "bacon =[3.14,'cat',11,'cat',True]\n",
    "listconcat = spam + bacon\n",
    "print(listconcat)"
   ]
  },
  {
   "cell_type": "code",
   "execution_count": 13,
   "id": "8b07a057",
   "metadata": {},
   "outputs": [
    {
     "name": "stdout",
     "output_type": "stream",
     "text": [
      "[3.14, 'cat', 11, 'cat', True, 3.14, 'cat', 11, 'cat', True, 3.14, 'cat', 11, 'cat', True]\n"
     ]
    }
   ],
   "source": [
    "## List Replication Operator (*)\n",
    "bacon =[3.14,'cat',11,'cat',True]\n",
    "replicatlist = bacon * 3\n",
    "print(replicatlist)"
   ]
  },
  {
   "cell_type": "code",
   "execution_count": null,
   "id": "30218c6d",
   "metadata": {},
   "outputs": [],
   "source": [
    "## 10.What is difference between the list methods append() and insert()?\n",
    "''' 1. append(): The append() method is used to add an element to the end of a list. It takes one argument, \n",
    "                 which is the element you want to add.\n",
    "            \n",
    "    2. insert(): The insert() method is used to insert an element at a specific position within the list. \n",
    "                 It takes two arguments\n",
    "'''"
   ]
  },
  {
   "cell_type": "code",
   "execution_count": 14,
   "id": "5be93613",
   "metadata": {},
   "outputs": [
    {
     "data": {
      "text/plain": [
       "[1, 2, 3, 4]"
      ]
     },
     "execution_count": 14,
     "metadata": {},
     "output_type": "execute_result"
    }
   ],
   "source": [
    "## append()\n",
    "list = [1,2,3]\n",
    "list.append(4)\n",
    "list"
   ]
  },
  {
   "cell_type": "code",
   "execution_count": 15,
   "id": "892bdf27",
   "metadata": {},
   "outputs": [
    {
     "data": {
      "text/plain": [
       "[1, 4, 2, 3]"
      ]
     },
     "execution_count": 15,
     "metadata": {},
     "output_type": "execute_result"
    }
   ],
   "source": [
    "## insert()\n",
    "list = [1,2,3]\n",
    "list.insert(1,4)\n",
    "list"
   ]
  },
  {
   "cell_type": "code",
   "execution_count": null,
   "id": "9b2e3c23",
   "metadata": {},
   "outputs": [],
   "source": [
    "## 11.What are the two methods for removing items from a list?\n",
    "''' 1.remove(): The remove() method is used to remove the first occurrence of a specified value from the list.\n",
    "\n",
    "    2.pop(): The pop() method is used to remove and return an element from a list based on its index.\n",
    "'''"
   ]
  },
  {
   "cell_type": "code",
   "execution_count": 16,
   "id": "65d630b5",
   "metadata": {},
   "outputs": [
    {
     "data": {
      "text/plain": [
       "[1, 3, 2, 4]"
      ]
     },
     "execution_count": 16,
     "metadata": {},
     "output_type": "execute_result"
    }
   ],
   "source": [
    "## remove()\n",
    "list = [1, 2, 3, 2, 4] \n",
    "list.remove(2) ## delete the 1st occurnace of element present in list.\n",
    "list"
   ]
  },
  {
   "cell_type": "code",
   "execution_count": 17,
   "id": "07d2eb5d",
   "metadata": {},
   "outputs": [
    {
     "data": {
      "text/plain": [
       "3"
      ]
     },
     "execution_count": 17,
     "metadata": {},
     "output_type": "execute_result"
    }
   ],
   "source": [
    "## pop()\n",
    "list = [1, 2, 3, 4]\n",
    "list.pop(2) ## delete the element present at 2nd index position."
   ]
  },
  {
   "cell_type": "code",
   "execution_count": null,
   "id": "06db6005",
   "metadata": {},
   "outputs": [],
   "source": [
    "## 12.Describe how list values and string values are identical.\n",
    "''' 1.Ordered Sequences:\n",
    "                    > Both lists and strings are ordered sequences of elements.\n",
    "                    > In a string, the elements are characters, while in a list, the elements can be of any data type.\n",
    "    \n",
    "    2.Indexing:\n",
    "              > You can access individual elements in both lists and strings using indexing.\n",
    "              \n",
    "              ex.   \n",
    "                     list1 = [1,2,3]\n",
    "                     string1 = \"hello\"\n",
    "                     \n",
    "                     list1[0] ## access 1st element '1'\n",
    "                     string1[0] ## access 1st element 'h'\n",
    "                     \n",
    "    3.Slicing:\n",
    "             > Both lists and strings support slicing.\n",
    "             \n",
    "             ex. \n",
    "                     list1 = [1,2,3,4,5,6]\n",
    "                     string1 = \"hello\"\n",
    "                     \n",
    "                     list1[1:4] ## [2,3,4]\n",
    "                     string1[1:4] ## \"ell\"\n",
    "                     \n",
    "    4.Length:\n",
    "           > You can determine the number of elements in both lists and the number of characters in strings using the len() \n",
    "             function.\n",
    "'''"
   ]
  },
  {
   "cell_type": "code",
   "execution_count": null,
   "id": "1314fbe9",
   "metadata": {},
   "outputs": [],
   "source": [
    "## 13.What's the difference between tuples and lists?\n",
    "''' \n",
    "   1.Lists\n",
    "    \n",
    "    > Lists are mutable you can delete,add ans modify elements in list.\n",
    "    \n",
    "    > In List elements stores in [].\n",
    "    \n",
    "    > List is heterogenous type stores different data types(int, floats, string, list and tuple).\n",
    "    \n",
    "   2.Tuples\n",
    "    \n",
    "    > Tuples are immutable you can't delete,add ans modify elements in tuples.\n",
    "    \n",
    "    > In Tuples elements stores in ().\n",
    "'''"
   ]
  },
  {
   "cell_type": "code",
   "execution_count": 18,
   "id": "62d61417",
   "metadata": {},
   "outputs": [],
   "source": [
    "## 14.How do you type a tuple value that only contains the integer 42?\n",
    "tuple1 = (42,) ''' (',' after 42 is necessary to indicate that you are creating a tuple with a single element. \n",
    "                    Without the comma, Python would interpret the parentheses as a mathematical expression \n",
    "                    and not create a tuple.)'''\n"
   ]
  },
  {
   "cell_type": "code",
   "execution_count": 20,
   "id": "fb63d98b",
   "metadata": {},
   "outputs": [],
   "source": [
    "## 15.How do you get a list value's tuple form? How do you get a tuple value's list form?\n",
    "\n",
    "## List to Tuple: \n",
    "              my_list = [1, 2, 3, 4]\n",
    "              my_tuple = tuple(my_list)\n",
    "        \n",
    "## Tuple to List:\n",
    "              my_tuple = (1, 2, 3, 4)\n",
    "              my_list = list(my_tuple)\n",
    "             "
   ]
  },
  {
   "cell_type": "code",
   "execution_count": 21,
   "id": "2937ee8a",
   "metadata": {},
   "outputs": [
    {
     "name": "stdout",
     "output_type": "stream",
     "text": [
      "[1, 2, 3, 4]\n",
      "[1, 2, 3, 4]\n"
     ]
    }
   ],
   "source": [
    "## 16.Variables that &quot;contain&quot; list values are not necessarily lists themselves. Instead, what do they contain?\n",
    "''' Variables that \"contain\" list values in Python do not actually contain the list data directly. \n",
    "    Instead, they contain references or pointers to the memory location where the list data is stored.\n",
    "\n",
    "'''\n",
    "my_list = [1, 2, 3]\n",
    "another_list = my_list\n",
    "\n",
    "my_list.append(4)\n",
    "\n",
    "# Both variables reflect the change because they reference the same list object\n",
    "print(my_list)        \n",
    "print(another_list)   "
   ]
  },
  {
   "cell_type": "code",
   "execution_count": 22,
   "id": "536ecaf2",
   "metadata": {},
   "outputs": [
    {
     "name": "stdout",
     "output_type": "stream",
     "text": [
      "[1, [99, 3]]\n"
     ]
    }
   ],
   "source": [
    "## 17.How do you distinguish between copy.copy() and copy.deepcopy()?\n",
    "'''\n",
    "    1. copy.copy():\n",
    "      \n",
    "      > 'copy.copy()' creates a new object that is a shallow copy of the original object.\n",
    "'''\n",
    "import copy\n",
    "\n",
    "original_list = [1, [2, 3]]\n",
    "shallow_copy = copy.copy(original_list)\n",
    "\n",
    "shallow_copy[1][0] = 99  # Modify a nested element in the shallow copy\n",
    "print(original_list) "
   ]
  },
  {
   "cell_type": "code",
   "execution_count": 23,
   "id": "f85bd9d1",
   "metadata": {},
   "outputs": [
    {
     "name": "stdout",
     "output_type": "stream",
     "text": [
      "[1, [2, 3]]\n"
     ]
    }
   ],
   "source": [
    "'''\n",
    "    2. copy.deepcopy()\n",
    "      \n",
    "      > copy.deepcopy() creates a new object that is a deep copy of the original object.\n",
    "'''\n",
    "\n",
    "import copy\n",
    "\n",
    "original_list = [1, [2, 3]]\n",
    "deep_copy = copy.deepcopy(original_list)\n",
    "\n",
    "deep_copy[1][0] = 99  # Modify a nested element in the deep copy\n",
    "print(original_list) "
   ]
  },
  {
   "cell_type": "code",
   "execution_count": null,
   "id": "bfb65db5",
   "metadata": {},
   "outputs": [],
   "source": []
  }
 ],
 "metadata": {
  "kernelspec": {
   "display_name": "Python 3",
   "language": "python",
   "name": "python3"
  },
  "language_info": {
   "codemirror_mode": {
    "name": "ipython",
    "version": 3
   },
   "file_extension": ".py",
   "mimetype": "text/x-python",
   "name": "python",
   "nbconvert_exporter": "python",
   "pygments_lexer": "ipython3",
   "version": "3.8.8"
  }
 },
 "nbformat": 4,
 "nbformat_minor": 5
}
