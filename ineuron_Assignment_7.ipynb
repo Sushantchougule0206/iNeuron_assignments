{
 "cells": [
  {
   "cell_type": "code",
   "execution_count": 1,
   "id": "83798e43",
   "metadata": {},
   "outputs": [
    {
     "name": "stdout",
     "output_type": "stream",
     "text": [
      "8\n",
      "2\n",
      "Addition: 8 + 2 = 10\n",
      "Subtraction: 8 - 2 = 6\n",
      "Multiplication: 8 * 2 = 16\n",
      "Division: 8 / 2 = 4.0\n"
     ]
    }
   ],
   "source": [
    "## Q.1. Create two int type variables, apply addition, subtraction, division and multiplications and store the results in variables. Then print the data in the following format by calling the variables:\n",
    "\n",
    "'''First variable is __ & second variable is __.\n",
    "   Addition: __ + __ = __\n",
    "   Subtraction: __ - __ = __\n",
    "   Multiplication: __ * __ = __\n",
    "   Division: __ / __ = __ \n",
    "'''\n",
    "\n",
    "first_var = int(input( ))\n",
    "second_var = int(input( ))\n",
    "\n",
    "if second_var != 0:\n",
    "    division_result = first_var / second_var\n",
    "else:\n",
    "    division_result = \"Undefined (division by zero)\"\n",
    "\n",
    "print(f\"Addition: {first_var} + {second_var} = {first_var + second_var}\")\n",
    "print(f\"Subtraction: {first_var} - {second_var} = {first_var - second_var}\")\n",
    "print(f\"Multiplication: {first_var} * {second_var} = {first_var * second_var}\")\n",
    "print(f\"Division: {first_var} / {second_var} = {division_result}\")"
   ]
  },
  {
   "cell_type": "code",
   "execution_count": null,
   "id": "e51532af",
   "metadata": {},
   "outputs": [],
   "source": [
    "## Q.2.What is the difference between the following operators:\n",
    "\n",
    "''' (i) ‘/’ & ‘//’:\n",
    "\n",
    "        1) '/' (Forward Slash) is the division operator in Python and is used for regular division. It returns a floating-point \n",
    "          result even if both operands are integers.\n",
    "         Ex.: result = 10 / 3  # Result is 3.3333333333333335\n",
    "         \n",
    "        2)'//' (Double Forward Slash) is the floor division operator in Python. It performs division and rounds the result down\n",
    "           to the nearest integer, discarding the decimal part. It is also known as integer division.\n",
    "         Ex.: result = 10 // 3  # Result is 3\n",
    "    \n",
    "    (ii) ‘**’ & ‘^’:\n",
    "     \n",
    "        1) '**' (Double Asterisk) is the exponentiation operator in Python. It is used to raise a number to a power.\n",
    "          Ex.: result = 2 ** 3  # Result is 8 (2 raised to the power of 3)\n",
    "          \n",
    "        2)'^' (Caret) is not an exponentiation operator in Python; it is a bitwise XOR operator. It is used for bitwise XOR \n",
    "          (exclusive OR) operations on integers.\n",
    "          Ex.: result = 5 ^ 3  # Result is 6 (Binary: 0101 ^ 0011 = 0110)\n",
    "'''"
   ]
  },
  {
   "cell_type": "code",
   "execution_count": null,
   "id": "87fcab13",
   "metadata": {},
   "outputs": [],
   "source": [
    "## Q.3.List the logical operators.\n",
    "\n",
    "''' 1. and: The 'and' operator returns 'True' if both operands are 'True'. Otherwise, it returns 'False'.\n",
    "      Ex.: result = True and False\n",
    "      \n",
    "    2. or: The 'or' operator returns 'True' if at least one of the operands is 'True'. It returns 'False' only if both operands \n",
    "           are 'False'.\n",
    "      Ex.: result = True or False\n",
    "      \n",
    "    3. not: The not operator is a unary operator that returns the opposite boolean value of its operand. If the operand is True,\n",
    "            not returns False, and vice versa.\n",
    "      Ex.: result = not True\n",
    "'''\n"
   ]
  },
  {
   "cell_type": "code",
   "execution_count": 4,
   "id": "78125774",
   "metadata": {},
   "outputs": [
    {
     "name": "stdout",
     "output_type": "stream",
     "text": [
      "4\n",
      "20\n"
     ]
    }
   ],
   "source": [
    "## Q.4.Explain right shift operator and left shift operator with examples.\n",
    "\n",
    "'''Right Shift Operator (>>):\n",
    "                  1. The right shift operator shifts the bits of an integer to the right by a specified number of positions.\n",
    "                  \n",
    "                  2. The rightmost bits are shifted out (discarded), and zeros are shifted in from the left for positive numbers.\n",
    "'''\n",
    "x = 16  # Binary: 10000\n",
    "result = x >> 2  # Right shift by 2 positions\n",
    "print(result)\n",
    "\n",
    "'''Left Shift Operator (<<):\n",
    "                 1. The left shift operator shifts the bits of an integer to the left by a specified number of positions.\n",
    "\n",
    "                 2. Zeros are shifted in from the right, and the leftmost bits are discarded if they exceed the number of bits available in the integer type.\n",
    "'''\n",
    "x = 5  # Binary: 101\n",
    "result = x << 2  # Left shift by 2 positions\n",
    "print(result)"
   ]
  },
  {
   "cell_type": "code",
   "execution_count": 5,
   "id": "2e9775d4",
   "metadata": {},
   "outputs": [
    {
     "name": "stdout",
     "output_type": "stream",
     "text": [
      "10 is present in the list.\n"
     ]
    }
   ],
   "source": [
    "## Q.5. Create a list containing int type data of length 15. Then write a code to check if 10 is present in the list or not.\n",
    "\n",
    "my_list = [2, 4, 6, 8, 10, 12, 14, 16, 18, 20, 22, 24, 26, 28, 30]\n",
    "\n",
    "if 10 in my_list:\n",
    "    print(\"10 is present in the list.\")\n",
    "else:\n",
    "    print(\"10 is not present in the list.\")"
   ]
  },
  {
   "cell_type": "code",
   "execution_count": null,
   "id": "0da4cb37",
   "metadata": {},
   "outputs": [],
   "source": []
  }
 ],
 "metadata": {
  "kernelspec": {
   "display_name": "Python 3",
   "language": "python",
   "name": "python3"
  },
  "language_info": {
   "codemirror_mode": {
    "name": "ipython",
    "version": 3
   },
   "file_extension": ".py",
   "mimetype": "text/x-python",
   "name": "python",
   "nbconvert_exporter": "python",
   "pygments_lexer": "ipython3",
   "version": "3.8.8"
  }
 },
 "nbformat": 4,
 "nbformat_minor": 5
}
