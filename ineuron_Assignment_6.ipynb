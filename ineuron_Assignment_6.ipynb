{
 "cells": [
  {
   "cell_type": "code",
   "execution_count": 2,
   "id": "425444e8",
   "metadata": {},
   "outputs": [
    {
     "name": "stdout",
     "output_type": "stream",
     "text": [
      "FalseNoneTrueandasassertasyncawaitbreakclasscontinuedefdelelifelseexceptfinallyforfromglobalifimportinislambdanonlocalnotorpassraisereturntrywhilewithyield"
     ]
    }
   ],
   "source": [
    "## Q.1.What are keywords in python? Using the keyword library, print all the python keywords.\n",
    "\n",
    "\n",
    "'''   Keywords in Python are reserved words that have special meanings and purposes within the language. \n",
    "      These keywords cannot be used as identifiers (variable names, function names, etc.)\n",
    "'''\n",
    "\n",
    "import keyword\n",
    "\n",
    "# Get the list of Python keywords\n",
    "keywords = keyword.kwlist\n",
    "\n",
    "# Print each keyword\n",
    "for kw in keywords:\n",
    "    print(kw,)"
   ]
  },
  {
   "cell_type": "code",
   "execution_count": null,
   "id": "3f3015b8",
   "metadata": {},
   "outputs": [],
   "source": [
    "## Q.2.What are the rules to create variables in python?\n",
    "\n",
    "'''\n",
    "   > Variable names can consist of letters (uppercase and lowercase), digits, and underscores.\n",
    "   \n",
    "   > They must start with a letter (a-z, A-Z) or an underscore (_) character.\n",
    "   \n",
    "   > Variable names are case-sensitive, meaning myVar and myvar are treated as different variables.\n",
    "   \n",
    "   > You cannot use Python keywords (reserved words) as variable names. Attempting to do so will result in a syntax error.\n",
    "   \n",
    "   > Use lowercase letters and underscores for variable names (e.g., my_variable) to follow Python's naming conventions \n",
    "     (known as snake_case).\n",
    "     \n",
    "   > Invalid variable names include 2nd_var (starts with a digit), my-var (contains a hyphen), and for (a Python keyword).\n",
    "   \n",
    "   > Variable names should be descriptive and provide information about the data they hold. This makes your code more readable and maintainable.\n",
    "'''\n"
   ]
  },
  {
   "cell_type": "code",
   "execution_count": null,
   "id": "9c2667b8",
   "metadata": {},
   "outputs": [],
   "source": [
    "## Q.3.What are the standards and conventions followed for the nomenclature of variables in python to improve code \n",
    "##      readability and maintainability?\n",
    "\n",
    "'''\n",
    "   > Variable names should use lowercase letters and underscores to separate words.\n",
    "     Ex.: 'my_variable', 'total_count', 'user_name', 'file_contents'\n",
    "     \n",
    "   > Variable names should be descriptive and convey the purpose or content of the variable.\n",
    "     \n",
    "   > Avoid overly generic names like a, x, or data. Instead, use names like counter, username, or file_contents to make \n",
    "     your code more understandable.\n",
    "     \n",
    "   > Single-letter variable names like i, j, or k are acceptable in situations where they represent loop counters or \n",
    "     mathematical variables\n",
    "     \n",
    "   > If you have constants in your code, use uppercase letters and underscores to name them. For example: MAX_VALUE, PI, \n",
    "     DATABASE_URL.\n",
    "     \n",
    "   > To indicate that a variable is intended for internal use within a module or class and should not be accessed directly \n",
    "     from outside, prefix it with a single underscore. \n",
    "     Ex.: _internal, _variable\n",
    "     \n",
    "   > Names with double underscores at both the beginning and end, such as __init__ or __private_method__, are used for special \n",
    "     methods and attributes in Python classes.\n",
    "     \n",
    "   > Names with double underscores at both the beginning and end, such as __init__ or __private_method__, are used for special\n",
    "     methods and attributes in Python classes. \n",
    "'''"
   ]
  },
  {
   "cell_type": "code",
   "execution_count": 4,
   "id": "3abd3eec",
   "metadata": {},
   "outputs": [
    {
     "ename": "SyntaxError",
     "evalue": "invalid syntax (<ipython-input-4-0b5982536379>, line 3)",
     "output_type": "error",
     "traceback": [
      "\u001b[1;36m  File \u001b[1;32m\"<ipython-input-4-0b5982536379>\"\u001b[1;36m, line \u001b[1;32m3\u001b[0m\n\u001b[1;33m    for = 10\u001b[0m\n\u001b[1;37m        ^\u001b[0m\n\u001b[1;31mSyntaxError\u001b[0m\u001b[1;31m:\u001b[0m invalid syntax\n"
     ]
    }
   ],
   "source": [
    "## Q.4.What will happen if a keyword is used as a variable name?\n",
    "\n",
    "'''If you use a keyword as a variable name in Python, you will encounter a syntax error. Keywords are reserved words in the \n",
    "   Python language, and they have predefined meanings and functions within the language's syntax. Attempting to use a keyword \n",
    "   as a variable name is not allowed because it would lead to ambiguity and make the code difficult to understand.'''\n",
    "\n",
    "\n",
    "for = 10"
   ]
  },
  {
   "cell_type": "code",
   "execution_count": 5,
   "id": "a2626a12",
   "metadata": {},
   "outputs": [
    {
     "name": "stdout",
     "output_type": "stream",
     "text": [
      "8\n"
     ]
    }
   ],
   "source": [
    "## Q.5.For what purpose def keyword is used?\n",
    "\n",
    "'''the def keyword is used to define a function. Functions are blocks of code that perform a specific task or set of tasks, \n",
    "   and they allow you to group and organize your code for better readability, reusability, and maintainability.'''\n",
    "\n",
    "def add_numbers(a, b):  ## here 'def' is used to create 'add_numbers' function. \n",
    "    result = a + b\n",
    "    return result\n",
    "result = add_numbers(5, 3)\n",
    "print(result)"
   ]
  },
  {
   "cell_type": "code",
   "execution_count": null,
   "id": "85d72c45",
   "metadata": {},
   "outputs": [],
   "source": [
    "## Q.6.What is the operation of this special character ‘\\’?\n",
    "\n",
    "''' The special character '\\' in Python is used as an escape character or for creating escape sequences. Escape \n",
    "    sequences are combinations of characters that represent special characters that cannot be easily expressed within a string\n",
    "    using their literal representations.\n",
    "    \n",
    "    > '\\\\' : Represents a single backslash character. This is used to escape the backslash itself.\n",
    "    \n",
    "    > '\\n' : Represents a newline character. It is used to insert a line break in a string.\n",
    "\n",
    "    > '\\t' : Represents a tab character. It is used to insert a horizontal tab (indentation) in a string.\n",
    "    '''\n"
   ]
  },
  {
   "cell_type": "code",
   "execution_count": null,
   "id": "2f0b14d2",
   "metadata": {},
   "outputs": [],
   "source": [
    "## Q.7. Give an example of the following conditions: (i) Homogeneous list (ii) Heterogeneous set (iii) Homogeneous tuple\n",
    "\n",
    "''' i) Homogeneous List:\n",
    "           A homogeneous list is a list where all elements have the same data type. \n",
    "           Ex.: homogeneous_list = [1, 2, 3, 4, 5]\n",
    "           \n",
    "    ii) Heterogeneous Set:\n",
    "           A heterogeneous set is a set where elements can be of different data types.\n",
    "           Ex.: heterogeneous_set = {1, 'apple', 3.14, (1, 2)}\n",
    "           \n",
    "    iii) Homogeneous Tuple:\n",
    "           A homogeneous tuple is a tuple where all elements have the same data type.\n",
    "           Ex.: homogeneous_tuple = ('apple', 'banana', 'cherry') '''"
   ]
  },
  {
   "cell_type": "code",
   "execution_count": null,
   "id": "a958e473",
   "metadata": {},
   "outputs": [],
   "source": [
    "## Q.8.Explain the mutable and immutable data types with proper explanation & examples.\n",
    "\n",
    "'''\n",
    "i) Immutable Data Types:\n",
    "            Immutable data types are those whose values cannot be modified after they are created. When you perform an operation\n",
    "            that appears to modify an immutable object, you are, in fact, creating a new object with the updated value. \n",
    "            \n",
    "   Immutable data types include:\n",
    "\n",
    "  1) int (Integer): Integer values are immutable. When you perform arithmetic operations on integers, you create new integer objects.\n",
    "                     Ex: x = 5\n",
    "                         y = x + 3 \n",
    "\n",
    "  2) float (Floating-Point): Floating-point numbers are immutable as well. Operations on floats create new float objects.\n",
    "                               Ex: pi = 3.14159\n",
    "                                   pi_approx = pi + 0.001 \n",
    "\n",
    "  3) str (String): Strings are immutable sequences of characters. Operations on strings create new string objects.\n",
    "                    Ex: message = \"Hello\"\n",
    "                        new_message = message + \", world!\" \n",
    "\n",
    "  4) tuple: Tuples are immutable sequences of values. You cannot modify the elements of a tuple once it's created.\n",
    "             Ex: coordinates = (2, 3)\n",
    "     \n",
    "ii) Mutable Data Types:\n",
    "            Mutable data types are those whose values can be modified after they are created. When you modify a mutable object, \n",
    "            you are directly changing the object's state without creating a new object. \n",
    "            \n",
    "  Mutable data types include:\n",
    "  \n",
    "  1) list: Lists are mutable sequences of values. You can add, remove, or modify elements in a list.\n",
    "            Ex: numbers = [1, 2, 3]\n",
    "                numbers.append(4)\n",
    "          \n",
    "  2) dict (Dictionary): Dictionaries are mutable collections of key-value pairs. You can add, remove, or modify key-value pairs.\n",
    "                         Ex: student = {'name': 'Alice', 'age': 25}\n",
    "                             student['age'] = 26\n",
    "                            \n",
    "  3) set: Sets are mutable collections of unique values. You can add or remove elements from a set.\n",
    "           Ex: colors = {'red', 'green', 'blue'}\n",
    "               colors.add('yellow')\n",
    "               \n",
    "  4) bytearray: Bytearrays are mutable sequences of bytes. You can modify individual bytes within a bytearray.\n",
    "                 Ex: data = bytearray(b'Hello')\n",
    "                     data[0] = 72\n",
    "'''"
   ]
  },
  {
   "cell_type": "code",
   "execution_count": 3,
   "id": "9139f69a",
   "metadata": {},
   "outputs": [
    {
     "name": "stdout",
     "output_type": "stream",
     "text": [
      "    *\n",
      "   ***\n",
      "  *****\n",
      " *******\n",
      "*********\n"
     ]
    }
   ],
   "source": [
    "## Q.9.Write a code to create the given structure using only for loop.\n",
    "\n",
    "'''   *\n",
    "     ***\n",
    "    *****\n",
    "   *******\n",
    "  ********* '''\n",
    "\n",
    "n = 5\n",
    "for i in range(1, n + 1):\n",
    "    for j in range(n - i):\n",
    "        print(\" \", end=\"\")\n",
    "    \n",
    "    for k in range(2 * i - 1):\n",
    "        print(\"*\", end=\"\")\n",
    "    \n",
    "    print()"
   ]
  },
  {
   "cell_type": "code",
   "execution_count": 4,
   "id": "268965df",
   "metadata": {},
   "outputs": [
    {
     "name": "stdout",
     "output_type": "stream",
     "text": [
      "|||||\n",
      " |||\n",
      "  |\n"
     ]
    }
   ],
   "source": [
    "## Q.10.Write a code to create the given structure using while loop.\n",
    "\n",
    "\n",
    "\n",
    "n = 5\n",
    "\n",
    "spaces = 0\n",
    "bars = n\n",
    "\n",
    "while bars >= 1:\n",
    "    \n",
    "    i = 0\n",
    "    while i < spaces:\n",
    "        print(\" \", end=\"\")\n",
    "        i += 1\n",
    "    \n",
    "    j = 0\n",
    "    while j < bars:\n",
    "        print(\"|\", end=\"\")\n",
    "        j += 1\n",
    "    \n",
    "    print()\n",
    "    \n",
    "    spaces += 1\n",
    "    bars -= 2"
   ]
  },
  {
   "cell_type": "code",
   "execution_count": null,
   "id": "82642bcd",
   "metadata": {},
   "outputs": [],
   "source": []
  }
 ],
 "metadata": {
  "kernelspec": {
   "display_name": "Python 3",
   "language": "python",
   "name": "python3"
  },
  "language_info": {
   "codemirror_mode": {
    "name": "ipython",
    "version": 3
   },
   "file_extension": ".py",
   "mimetype": "text/x-python",
   "name": "python",
   "nbconvert_exporter": "python",
   "pygments_lexer": "ipython3",
   "version": "3.8.8"
  }
 },
 "nbformat": 4,
 "nbformat_minor": 5
}
