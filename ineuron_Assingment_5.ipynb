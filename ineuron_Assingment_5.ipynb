{
 "cells": [
  {
   "cell_type": "code",
   "execution_count": null,
   "id": "71188773",
   "metadata": {},
   "outputs": [],
   "source": [
    "## 1.What does an empty dictionary's code look like?\n",
    "\n",
    "'''In Python, an empty dictionary is represented using curly braces {}.\n",
    "'''\n",
    "empty_dict = {}"
   ]
  },
  {
   "cell_type": "code",
   "execution_count": 1,
   "id": "c3c1bb4f",
   "metadata": {},
   "outputs": [
    {
     "data": {
      "text/plain": [
       "{'foo': 42}"
      ]
     },
     "execution_count": 1,
     "metadata": {},
     "output_type": "execute_result"
    }
   ],
   "source": [
    "## 2.What is the value of a dictionary value with the key 'foo' and the value 42?\n",
    "dict1 = {'foo':42}\n",
    "dict1"
   ]
  },
  {
   "cell_type": "code",
   "execution_count": null,
   "id": "6b37d5ba",
   "metadata": {},
   "outputs": [],
   "source": [
    "## 3.What is the most significant distinction between a dictionary and a list?\n",
    "'''\n",
    "  List:\n",
    "\n",
    "   > List is an ordered collection of elements.\n",
    "   > Elements in a list are accessed by their position or index, which is an integer starting from 0.\n",
    "   > Lists store a single data type or a mix of different data types.\n",
    "   > Lists maintain the order of elements based on their position in the list. The first element added is at index 0, \n",
    "     the second at index 1, and so on.\n",
    "     \n",
    "  Dictionary:\n",
    "  \n",
    "   > Dictionary is an unordered collection of key-value pairs.\n",
    "   > Elements in a dictionary are accessed by their keys, which are unique and can be immutable.\n",
    "   > Dictionaries store data in key-value pairs, where each key is unique within the dictionary.\n",
    "   > Dictionaries are efficient for accessing values by key, as they use a hash table data structure internally for quick \n",
    "     key-value look-up.\n",
    "'''"
   ]
  },
  {
   "cell_type": "code",
   "execution_count": 2,
   "id": "e2bc6da5",
   "metadata": {},
   "outputs": [
    {
     "ename": "NameError",
     "evalue": "name 'bar' is not defined",
     "output_type": "error",
     "traceback": [
      "\u001b[1;31m---------------------------------------------------------------------------\u001b[0m",
      "\u001b[1;31mNameError\u001b[0m                                 Traceback (most recent call last)",
      "\u001b[1;32m<ipython-input-2-1151087d03e6>\u001b[0m in \u001b[0;36m<module>\u001b[1;34m\u001b[0m\n\u001b[0;32m      1\u001b[0m \u001b[1;31m## 4.What happens if you try to access spam[foo] if spam is {bar: 100}?\u001b[0m\u001b[1;33m\u001b[0m\u001b[1;33m\u001b[0m\u001b[1;33m\u001b[0m\u001b[0m\n\u001b[0;32m      2\u001b[0m \u001b[1;33m\u001b[0m\u001b[0m\n\u001b[1;32m----> 3\u001b[1;33m \u001b[0mspam\u001b[0m \u001b[1;33m=\u001b[0m \u001b[1;33m{\u001b[0m\u001b[0mbar\u001b[0m\u001b[1;33m:\u001b[0m \u001b[1;36m100\u001b[0m\u001b[1;33m}\u001b[0m\u001b[1;33m\u001b[0m\u001b[1;33m\u001b[0m\u001b[0m\n\u001b[0m\u001b[0;32m      4\u001b[0m \u001b[0mfoo\u001b[0m \u001b[1;33m=\u001b[0m \u001b[1;34m'Magic'\u001b[0m\u001b[1;33m\u001b[0m\u001b[1;33m\u001b[0m\u001b[0m\n\u001b[0;32m      5\u001b[0m \u001b[0mvalue\u001b[0m \u001b[1;33m=\u001b[0m \u001b[0mspam\u001b[0m\u001b[1;33m[\u001b[0m\u001b[0mfoo\u001b[0m\u001b[1;33m]\u001b[0m\u001b[1;33m\u001b[0m\u001b[1;33m\u001b[0m\u001b[0m\n",
      "\u001b[1;31mNameError\u001b[0m: name 'bar' is not defined"
     ]
    }
   ],
   "source": [
    "## 4.What happens if you try to access spam[foo] if spam is {bar: 100}?\n",
    "\n",
    "'''If you try to access spam[foo] where spam is a dictionary and foo is a variable that is not a valid key in the dictionary, \n",
    "   you will get a KeyError because Python cannot find the key foo in the dictionary spam.'''\n",
    "\n",
    "spam = {bar: 100}\n",
    "foo = 'Magic'\n",
    "value = spam[foo]\n",
    "\n"
   ]
  },
  {
   "cell_type": "code",
   "execution_count": null,
   "id": "c576d346",
   "metadata": {},
   "outputs": [],
   "source": [
    "## 5.If a dictionary is stored in spam, what is the difference between the expressions 'cat' in spam and'cat' in spam.keys()?\n",
    "'''\n",
    "   1.'cat' in spam:\n",
    "\n",
    "       >This expression directly checks if the key 'cat' exists in the dictionary 'spam'.\n",
    "       >If 'cat' is a key in 'spam', it returns 'True'; otherwise, it returns 'False'.\n",
    "\n",
    "   2.'cat' in spam.keys():\n",
    "\n",
    "       >This expression first retrieves a list of all the keys in the 'spam' dictionary using the 'keys()' method.\n",
    "       >Then, it checks if 'cat' exists in that list of keys.\n",
    "       >If 'cat' is a key in 'spam', it returns 'True'; otherwise, it returns 'False'.\n",
    "'''"
   ]
  },
  {
   "cell_type": "code",
   "execution_count": null,
   "id": "b0accf8e",
   "metadata": {},
   "outputs": [],
   "source": [
    "## 6.If a dictionary is stored in spam, what is the difference between the expressions 'cat' in spam and 'cat' in spam.values()?\n",
    "\n",
    "''''1.cat' in spam:\n",
    "\n",
    "          > This expression checks if the key 'cat' exists in the keys of the dictionary spam.\n",
    "          > If 'cat' is a key in spam, it returns True; otherwise, it returns False.\n",
    "          > This expression is used to test the presence of a key in the dictionary.\n",
    "    \n",
    "    2.'cat' in spam.values():\n",
    "\n",
    "          > This expression checks if the value 'cat' exists in any of the values of the dictionary spam.\n",
    "          > If 'cat' is found in any of the values, it returns True; otherwise, it returns False.\n",
    "          > This expression is used to test the presence of a value within the dictionary.\n",
    "\n",
    "'''"
   ]
  },
  {
   "cell_type": "code",
   "execution_count": null,
   "id": "51e31c54",
   "metadata": {},
   "outputs": [],
   "source": [
    "## 7.What is a shortcut for the following code?\n",
    "\n",
    "'''if 'color' not in spam:\n",
    "spam['color'] = 'black' '''\n",
    "\n",
    "spam.setdefault('color', 'black')"
   ]
  },
  {
   "cell_type": "code",
   "execution_count": 1,
   "id": "53b1aa98",
   "metadata": {},
   "outputs": [
    {
     "name": "stdout",
     "output_type": "stream",
     "text": [
      "{'address': {'city': 'Anytown', 'state': 'CA', 'street': '123 Main St'},\n",
      " 'age': 30,\n",
      " 'name': 'John'}\n"
     ]
    }
   ],
   "source": [
    "## 8.How do you \"pretty print\" dictionary values using which module and function?\n",
    "\n",
    "'''\n",
    "   > To \"pretty print\" dictionary values in Python, you can use the pprint module (pretty-print module), which provides a\n",
    "    function called pprint. \n",
    "'''\n",
    "\n",
    "import pprint\n",
    "\n",
    "my_dict = {\n",
    "    'name': 'John',\n",
    "    'age': 30,\n",
    "    'address': {\n",
    "        'street': '123 Main St',\n",
    "        'city': 'Anytown',\n",
    "        'state': 'CA'\n",
    "    }\n",
    "}\n",
    "\n",
    "# Pretty print the dictionary\n",
    "pprint.pprint(my_dict)"
   ]
  },
  {
   "cell_type": "code",
   "execution_count": null,
   "id": "3c5e5e20",
   "metadata": {},
   "outputs": [],
   "source": []
  }
 ],
 "metadata": {
  "kernelspec": {
   "display_name": "Python 3",
   "language": "python",
   "name": "python3"
  },
  "language_info": {
   "codemirror_mode": {
    "name": "ipython",
    "version": 3
   },
   "file_extension": ".py",
   "mimetype": "text/x-python",
   "name": "python",
   "nbconvert_exporter": "python",
   "pygments_lexer": "ipython3",
   "version": "3.8.8"
  }
 },
 "nbformat": 4,
 "nbformat_minor": 5
}
